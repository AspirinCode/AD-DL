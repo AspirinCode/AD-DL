{
 "cells": [
  {
   "cell_type": "markdown",
   "metadata": {},
   "source": [
    "# Postprocessing (rerun experiments)\n",
    "## ADNI "
   ]
  },
  {
   "cell_type": "markdown",
   "metadata": {},
   "source": [
    "(To run in Aramis2 or in a computer with GPU). Don't forget to:"
   ]
  },
  {
   "cell_type": "markdown",
   "metadata": {},
   "source": [
    "```bash\n",
    "conda activate clinica_dl_pre_py36\n",
    "module load clinica.all\n",
    "jupyter notebook --port 12345 --no-browser # remote browser\n",
    "```"
   ]
  },
  {
   "cell_type": "markdown",
   "metadata": {},
   "source": [
    "In local client to able ssh tunneling"
   ]
  },
  {
   "cell_type": "markdown",
   "metadata": {},
   "source": [
    "```bash\n",
    "ssh -N -L 12345:localhost:12345 aramis2\n",
    "```"
   ]
  },
  {
   "cell_type": "markdown",
   "metadata": {},
   "source": [
    "Then, to chose the right paths:"
   ]
  },
  {
   "cell_type": "code",
   "execution_count": null,
   "metadata": {},
   "outputs": [],
   "source": [
    "caps_directory= '/network/lustre/dtlake01/aramis/users/clinica/CLINICA_datasets/CAPS/Frontiers_DL/ADNI_rerun'\n",
    "tsv = '/network/lustre/dtlake01/aramis/users/mauricio.diazmelo/tmp/DL/tsv_files/ADNI_after_qc.tsv'\n",
    "working_dir = '/network/lustre/dtlake01/aramis/users/mauricio.diazmelo/tmp/DL/working_dir_postproc_rerun'"
   ]
  },
  {
   "cell_type": "markdown",
   "metadata": {},
   "source": [
    "Run the preprocessing, second part (formally, postprocessing)"
   ]
  },
  {
   "cell_type": "code",
   "execution_count": null,
   "metadata": {},
   "outputs": [],
   "source": [
    "from preprocessing.T1_postprocessing import postprocessing_t1w\n",
    "\n",
    "patch_size = 50\n",
    "stride_size = 50\n",
    "\n",
    "# for rgb tf learning\n",
    "wf2 = postprocessing_t1w(caps_directory, tsv, patch_size, stride_size, working_directory=working_dir, extract_method='slice', slice_mode='rgb')\n",
    "wf2.run(plugin='MultiProc', plugin_args={'n_procs': 12})"
   ]
  },
  {
   "cell_type": "code",
   "execution_count": null,
   "metadata": {},
   "outputs": [],
   "source": [
    "## for patch\n",
    "wf3 = postprocessing_t1w(caps_directory, tsv, patch_size, stride_size, working_directory=working_dir, extract_method='patch')\n",
    "#wf3.write_graph(\"workflow_graph.dot\")\n",
    "#wf3.write_graph(graph2use='flat')\n",
    "wf3.run(plugin='MultiProc', plugin_args={'n_procs': 42})"
   ]
  },
  {
   "cell_type": "code",
   "execution_count": null,
   "metadata": {},
   "outputs": [],
   "source": []
  }
 ],
 "metadata": {
  "kernelspec": {
   "display_name": "Python 3",
   "language": "python",
   "name": "python3"
  },
  "language_info": {
   "codemirror_mode": {
    "name": "ipython",
    "version": 3
   },
   "file_extension": ".py",
   "mimetype": "text/x-python",
   "name": "python",
   "nbconvert_exporter": "python",
   "pygments_lexer": "ipython3",
   "version": "3.6.10"
  }
 },
 "nbformat": 4,
 "nbformat_minor": 2
}
