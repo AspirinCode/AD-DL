{
 "cells": [
  {
   "cell_type": "markdown",
   "metadata": {},
   "source": [
    "# New T1 Linear pipeline (remplace preprocessing DL)\n",
    "\n",
    "This pipeline uses clinica tools. \n",
    "\n",
    "Main requirement (clinica >= 0.3.2)."
   ]
  },
  {
   "cell_type": "markdown",
   "metadata": {},
   "source": [
    "# Reading input data (input node in Clinica implementation)"
   ]
  },
  {
   "cell_type": "code",
   "execution_count": 1,
   "metadata": {},
   "outputs": [],
   "source": [
    "from clinica.utils.inputs import check_bids_folder\n",
    "from clinica.utils.participant import get_subject_session_list"
   ]
  },
  {
   "cell_type": "code",
   "execution_count": 2,
   "metadata": {},
   "outputs": [],
   "source": [
    "\n",
    "bids_directory = '/Users/mdiazmel/tmp/DL/ADNI_BIDS_T1_new_test/'\n",
    "tsv = '/Users/mdiazmel/tmp/DL/t1_linear_test_2img.tsv'\n",
    "\n",
    "\n",
    "check_bids_folder(bids_directory)\n",
    "input_dir = bids_directory\n",
    "is_bids_dir = True\n",
    "base_dir = '/Users/mdiazmel/tmp/DL/working_dir/'\n",
    "\n",
    "sessions, subjects = get_subject_session_list(\n",
    "    input_dir,\n",
    "    tsv,\n",
    "    is_bids_dir,\n",
    "    False,\n",
    "    base_dir\n",
    "    )\n",
    "\n"
   ]
  },
  {
   "cell_type": "code",
   "execution_count": 3,
   "metadata": {},
   "outputs": [
    {
     "name": "stdout",
     "output_type": "stream",
     "text": [
      "['ses-M00', 'ses-M00']\n",
      "['sub-ADNI022S0004', 'sub-ADNI100S0006']\n"
     ]
    }
   ],
   "source": [
    "print(sessions)\n",
    "print(subjects)"
   ]
  },
  {
   "cell_type": "code",
   "execution_count": 4,
   "metadata": {},
   "outputs": [],
   "source": [
    "from clinica.utils.exceptions import ClinicaBIDSError, ClinicaException\n",
    "from clinica.utils.inputs import clinica_file_reader\n",
    "from clinica.utils.input_files import T1W_NII\n",
    "\n",
    "# Inputs from anat/ folder\n",
    "# ========================\n",
    "# T1w file:\n",
    "try:\n",
    "    t1w_files = clinica_file_reader(subjects,\n",
    "                                    sessions,\n",
    "                                    bids_directory,\n",
    "                                    T1W_NII)\n",
    "except ClinicaException as e:\n",
    "    err = 'Clinica faced error(s) while trying to read files in your CAPS directory.\\n' + str(e)\n",
    "    raise ClinicaBIDSError(err)"
   ]
  },
  {
   "cell_type": "code",
   "execution_count": 5,
   "metadata": {},
   "outputs": [
    {
     "name": "stdout",
     "output_type": "stream",
     "text": [
      "['/Users/mdiazmel/tmp/DL/ADNI_BIDS_T1_new_test/sub-ADNI022S0004/ses-M00/anat/sub-ADNI022S0004_ses-M00_T1w.nii.gz', '/Users/mdiazmel/tmp/DL/ADNI_BIDS_T1_new_test/sub-ADNI100S0006/ses-M00/anat/sub-ADNI100S0006_ses-M00_T1w.nii.gz']\n"
     ]
    }
   ],
   "source": [
    "print(t1w_files)"
   ]
  },
  {
   "cell_type": "code",
   "execution_count": 6,
   "metadata": {},
   "outputs": [],
   "source": [
    "def get_input_fields():\n",
    "    \"\"\"\"Specify the list of possible inputs of this pipelines.\n",
    "    Returns:\n",
    "    A list of (string) input fields name.\n",
    "    \"\"\"\n",
    "    return ['t1w']"
   ]
  },
  {
   "cell_type": "code",
   "execution_count": 7,
   "metadata": {},
   "outputs": [],
   "source": [
    "import nipype.pipeline.engine as npe\n",
    "import nipype.interfaces.utility as nutil\n",
    "from nipype.interfaces import ants\n",
    "\n",
    "read_node = npe.Node(name=\"ReadingFiles\",\n",
    "                     iterables=[\n",
    "                         ('t1w', t1w_files),\n",
    "                         ],\n",
    "                     synchronize=True,\n",
    "                     interface=nutil.IdentityInterface(\n",
    "                         fields=get_input_fields())\n",
    "                    )"
   ]
  },
  {
   "cell_type": "code",
   "execution_count": 8,
   "metadata": {},
   "outputs": [
    {
     "data": {
      "text/plain": [
       "nipype.pipeline.engine.nodes.Node"
      ]
     },
     "execution_count": 8,
     "metadata": {},
     "output_type": "execute_result"
    }
   ],
   "source": [
    "type(read_node)"
   ]
  },
  {
   "cell_type": "code",
   "execution_count": 9,
   "metadata": {},
   "outputs": [],
   "source": [
    "from clinica.utils.filemanip import get_subject_id\n",
    "\n",
    "image_id_node = npe.Node(\n",
    "    interface=nutil.Function(\n",
    "        input_names=['bids_or_caps_file'],\n",
    "        output_names=['image_id'],\n",
    "        function= get_subject_id),\n",
    "    name='ImageID')"
   ]
  },
  {
   "cell_type": "markdown",
   "metadata": {},
   "source": [
    "# Create the processing nodes.\n",
    "\n",
    "1. `n4biascorrection` by *ANTS*. Uses nipype interface."
   ]
  },
  {
   "cell_type": "code",
   "execution_count": 10,
   "metadata": {},
   "outputs": [],
   "source": [
    "n4biascorrection = npe.Node(\n",
    "    name='n4biascorrection',\n",
    "    interface=ants.N4BiasFieldCorrection(\n",
    "        dimension=3, \n",
    "        save_bias=True, \n",
    "        bspline_fitting_distance=600\n",
    "        )\n",
    "    )"
   ]
  },
  {
   "cell_type": "code",
   "execution_count": 11,
   "metadata": {},
   "outputs": [
    {
     "data": {
      "text/plain": [
       "nipype.pipeline.engine.nodes.Node"
      ]
     },
     "execution_count": 11,
     "metadata": {},
     "output_type": "execute_result"
    }
   ],
   "source": [
    "type(n4biascorrection)"
   ]
  },
  {
   "cell_type": "markdown",
   "metadata": {},
   "source": [
    "2. `RegistrationSynQuick` by *ANTS*. Uses nipype interface."
   ]
  },
  {
   "cell_type": "code",
   "execution_count": 12,
   "metadata": {},
   "outputs": [],
   "source": [
    "ref_template = '/Users/mdiazmel/tmp/DL/mni_icbm152_nlin_sym_09c_nifti/mni_icbm152_nlin_sym_09c/mni_icbm152_t1_tal_nlin_sym_09c.nii'\n",
    "\n",
    "ants_registration_node = npe.Node(\n",
    "   name='antsRegistrationSynQuick',\n",
    "   interface=ants.RegistrationSynQuick()\n",
    "   )\n",
    "ants_registration_node.inputs.fixed_image = ref_template\n",
    "ants_registration_node.inputs.transform_type = 'a'\n",
    "ants_registration_node.inputs.dimension = 3"
   ]
  },
  {
   "cell_type": "markdown",
   "metadata": {},
   "source": [
    "3. Crop image (using nifti). Use custom interface."
   ]
  },
  {
   "cell_type": "code",
   "execution_count": 13,
   "metadata": {},
   "outputs": [],
   "source": [
    "from clinicadl.preprocessing.T1_preprocessing_utils import crop_nifti\n",
    "\n",
    "cropnifti = npe.Node(\n",
    "    name='cropnifti',\n",
    "    interface=nutil.Function(\n",
    "        function=crop_nifti,\n",
    "        input_names=['input_img', 'ref_img'],\n",
    "        output_names=['output_img', 'crop_template']\n",
    "    )\n",
    ")\n",
    "cropnifti.inputs.ref_img = ref_template"
   ]
  },
  {
   "cell_type": "markdown",
   "metadata": {},
   "source": [
    "4. Histogram-based intensity normalization. This is a custom function performed by the binary `ImageMath` included with *ANTS*."
   ]
  },
  {
   "cell_type": "code",
   "execution_count": 14,
   "metadata": {},
   "outputs": [],
   "source": [
    "from clinicadl.preprocessing.T1_preprocessing_utils import ants_histogram_intensity_normalization\n",
    "\n",
    "## histogram-based intensity normalization\n",
    "intensitynorm = npe.Node(\n",
    "    name='intensitynormalization',\n",
    "    interface=nutil.Function(\n",
    "        input_names=['image_dimension', 'crop_template', 'input_img'],\n",
    "        output_names=['output_img'],\n",
    "        function=ants_histogram_intensity_normalization\n",
    "    )\n",
    ")\n",
    "intensitynorm.inputs.image_dimension = 3"
   ]
  },
  {
   "cell_type": "markdown",
   "metadata": {},
   "source": [
    "5. Prepare the writing and the outputs:"
   ]
  },
  {
   "cell_type": "code",
   "execution_count": 43,
   "metadata": {},
   "outputs": [],
   "source": [
    "# Get containers to ptoduce the CAPS structure\n",
    "def container_from_filename(bids_or_caps_filename):\n",
    "    \"\"\"Extract container from BIDS or CAPS file.\n",
    "                    \n",
    "    Args:\n",
    "        bids_or_caps_filename (str): full path to BIDS or CAPS filename .\n",
    "    Returns:\n",
    "        Container path of the form \"subjects/<participant_id>/<session_id>\"\n",
    "    Examples:\n",
    "        >>> from clinica.utils.nipype import container_from_filename\n",
    "        >>> container_from_filename('/path/to/bids/sub-CLNC01/ses-M00/anat/sub-CLNC01_ses-M00_T1w.nii.gz')\n",
    "        'subjects/sub-CLNC01/ses-M00'\n",
    "        >>> container_from_filename('caps/subjects/sub-CLNC01/ses-M00/dwi/preprocessing/sub-CLNC01_ses-M00_preproc.nii')\n",
    "        'subjects/sub-CLNC01/ses-M00'\n",
    "    \"\"\"\n",
    "    import os\n",
    "    import re\n",
    "    m = re.search(r'(sub-[a-zA-Z0-9]+)/(ses-[a-zA-Z0-9]+)', bids_or_caps_filename)\n",
    "    if m is None:\n",
    "        raise ValueError('Input filename is not in a BIDS or CAPS compliant format.'\n",
    "                         ' It does not contain the participant and session ID.')\n",
    "    subject = m.group(1)\n",
    "    session = m.group(2)\n",
    "    return os.path.join('subjects', subject, session)"
   ]
  },
  {
   "cell_type": "code",
   "execution_count": 63,
   "metadata": {},
   "outputs": [],
   "source": [
    "def get_data_datasink(image_id):\n",
    "    substitutions_ls = [  # registration\n",
    "        (image_id + '_T1w_corrected.nii.gz',\n",
    "         image_id + '_corrected_T1w.nii.gz'),\n",
    "        (image_id + 'Warped_cropped_intensity_norm.nii.gz',\n",
    "         image_id + '_space-MNI152NLin2009cSym_res-1x1x1_intensity_norm_T1w.nii.gz'),\n",
    "        (image_id + 'Warped_cropped.nii.gz',\n",
    "        image_id + '_space-MNI152NLin2009cSym_res-1x1x1_T1w.nii.gz'),\n",
    "        (image_id + 'Warped_cropped.pt',\n",
    "         image_id + '_space-MNI152NLin2009cSym_res-1x1x1_T1w.pt'),\n",
    "        (image_id + 'Warped.nii.gz',\n",
    "         image_id + '_space-MNI152NLin2009cSym_res-1x1x1_linear_registration_T1w.nii.gz')\n",
    "        ]\n",
    "#    regexp_substitutions_ls = [\n",
    "        # I don't know why it's adding this empty folder, so I remove it:\n",
    "        # NOTE, . means any characters and * means any number of repetition in python regex\n",
    "#        (r'/out_file_crop/_cropnifti\\d{1,4}/', r'/'),\n",
    "#        (r'/out_file_inn/_intensitynormalization\\d{1,4}/', r'/'),\n",
    "#        (r'/out_file_reg/_antsRegistrationSyNQuick\\d{1,4}/', r'/'),\n",
    "#        (r'/out_pt/_cropnifti\\d{1,4}/', r'/'),\n",
    "        # I don't know why it's adding this empty folder, so I remove it:\n",
    "#        (r'trait_added/_datasinker\\d{1,4}/', r'')\n",
    "#    ]\n",
    "    \n",
    "    return image_id, substitutions_ls"
   ]
  },
  {
   "cell_type": "code",
   "execution_count": 64,
   "metadata": {},
   "outputs": [],
   "source": [
    "# Create node to write selected files into the CAPS\n",
    "from nipype.interfaces.io import DataSink\n",
    "\n",
    "get_ids = npe.Node(\n",
    "    interface=nutil.Function(\n",
    "        input_names=['image_id'],\n",
    "        output_names=['image_id_out', 'subst_ls'],\n",
    "        function=get_data_datasink),\n",
    "    name=\"GetIDs\")\n",
    "    \n",
    "# Find container path from t1w filename\n",
    "# =====================================\n",
    "container_path = npe.Node(\n",
    "    nutil.Function(\n",
    "        input_names=['bids_or_caps_filename'],\n",
    "        output_names=['container'],\n",
    "        function=container_from_filename),\n",
    "    name='ContainerPath')\n",
    "\n",
    "\n",
    "caps_directory = '/Users/mdiazmel/tmp/DL/ADNI_CAPS2'\n",
    "\n",
    "write_node = npe.Node(\n",
    "    name=\"WriteCaps\",\n",
    "    interface=DataSink()\n",
    ")\n",
    "write_node.inputs.base_directory = caps_directory\n",
    "write_node.inputs.parameterization = False\n",
    "\n",
    "#write_node.inputs.substitutions = subst_ls\n",
    "#write_node.inputs.regexp_substitutions = regexp_subst_ls"
   ]
  },
  {
   "cell_type": "markdown",
   "metadata": {},
   "source": [
    "# Connecting the workflow\n",
    "\n",
    "This code shows how to connect the nodes that executes preprocessing."
   ]
  },
  {
   "cell_type": "code",
   "execution_count": 65,
   "metadata": {},
   "outputs": [],
   "source": [
    "from clinica.utils.nipype import fix_join\n",
    "\n",
    "working_dir = '/Users/mdiazmel/tmp/DL/working_dir2/'\n",
    "wf = npe.Workflow(name='t1_linear_dl', base_dir=working_dir)\n",
    "\n",
    "wf.connect([\n",
    "    (read_node, image_id_node, [('t1w', 'bids_or_caps_file')]),\n",
    "    (read_node, container_path, [('t1w', 'bids_or_caps_filename')]),\n",
    "    (image_id_node , ants_registration_node, [('image_id', 'output_prefix')]),\n",
    "    (read_node, n4biascorrection, [(\"t1w\", \"input_image\")]),\n",
    "    \n",
    "    (n4biascorrection, ants_registration_node, [('output_image', 'moving_image')]),\n",
    "    \n",
    "    (ants_registration_node, cropnifti, [('warped_image', 'input_img')]),\n",
    "    \n",
    "    (cropnifti, intensitynorm, [('output_img', 'input_img')]),\n",
    "    (cropnifti, intensitynorm, [('crop_template', 'crop_template')]),\n",
    "    \n",
    "    # Connect to DataSink\n",
    "    (container_path, write_node, [(('container', fix_join, 't1_linear'), 'container')]),  # Là, y a des chances que tu remplace le join() par 't1_linear' (je me rappelle plus le CAPS ^^)\n",
    "    (image_id_node, get_ids, [('image_id', 'image_id')]),\n",
    "    (get_ids, write_node, [('image_id_out', '@image_id')]),\n",
    "    (get_ids, write_node, [('subst_ls', 'substitutions')]),\n",
    "    #(get_ids, write_node, [('regexp_subst_ls', 'regexp_substitutions')]),\n",
    "    (n4biascorrection, write_node, [('output_image', '@outfile_corr')]),\n",
    "    (ants_registration_node, write_node, [('warped_image', '@outfile_reg')]),\n",
    "    (cropnifti, write_node, [('output_img', '@outfile_crop')]),\n",
    "    (intensitynorm, write_node, [('output_img', '@outfile_int')])\n",
    "    \n",
    "])\n",
    "\n",
    "\n"
   ]
  },
  {
   "cell_type": "code",
   "execution_count": 66,
   "metadata": {
    "scrolled": true
   },
   "outputs": [
    {
     "name": "stdout",
     "output_type": "stream",
     "text": [
      "200203-21:02:29,119 nipype.workflow INFO:\n",
      "\t Generated workflow graph: /Users/mdiazmel/tmp/DL/working_dir2/t1_linear_dl/workflow_graph.png (graph2use=hierarchical, simple_form=True).\n",
      "200203-21:02:29,539 nipype.workflow INFO:\n",
      "\t Generated workflow graph: /Users/mdiazmel/tmp/DL/working_dir2/t1_linear_dl/graph.png (graph2use=flat, simple_form=True).\n"
     ]
    },
    {
     "data": {
      "text/plain": [
       "'/Users/mdiazmel/tmp/DL/working_dir2/t1_linear_dl/graph.png'"
      ]
     },
     "execution_count": 66,
     "metadata": {},
     "output_type": "execute_result"
    }
   ],
   "source": [
    "wf.write_graph(\"workflow_graph.dot\")\n",
    "wf.write_graph(graph2use='flat')"
   ]
  },
  {
   "cell_type": "code",
   "execution_count": 67,
   "metadata": {},
   "outputs": [
    {
     "name": "stdout",
     "output_type": "stream",
     "text": [
      "200203-21:02:31,789 nipype.workflow INFO:\n",
      "\t Workflow t1_linear_dl settings: ['check', 'execution', 'logging', 'monitoring']\n",
      "200203-21:02:31,836 nipype.workflow INFO:\n",
      "\t Running in parallel.\n",
      "200203-21:02:31,844 nipype.workflow INFO:\n",
      "\t [MultiProc] Running 0 tasks, and 6 jobs ready. Free memory (GB): 7.20/7.20, Free processors: 2/2.\n",
      "200203-21:02:31,935 nipype.workflow INFO:\n",
      "\t [Job 0] Cached (t1_linear_dl.n4biascorrection).\n",
      "200203-21:02:31,940 nipype.workflow INFO:\n",
      "\t [Job 1] Cached (t1_linear_dl.ContainerPath).\n",
      "200203-21:02:33,846 nipype.workflow INFO:\n",
      "\t [MultiProc] Running 0 tasks, and 4 jobs ready. Free memory (GB): 7.20/7.20, Free processors: 2/2.\n",
      "200203-21:02:33,919 nipype.workflow INFO:\n",
      "\t [Job 2] Cached (t1_linear_dl.ImageID).\n",
      "200203-21:02:33,925 nipype.workflow INFO:\n",
      "\t [Job 8] Cached (t1_linear_dl.n4biascorrection).\n",
      "200203-21:02:35,925 nipype.workflow INFO:\n",
      "\t [Job 3] Cached (t1_linear_dl.antsRegistrationSynQuick).\n",
      "200203-21:02:35,931 nipype.workflow INFO:\n",
      "\t [Node] Outdated cache found for \"t1_linear_dl.GetIDs\".\n",
      "200203-21:02:35,950 nipype.workflow INFO:\n",
      "\t [Node] Setting-up \"t1_linear_dl.GetIDs\" in \"/Users/mdiazmel/tmp/DL/working_dir2/t1_linear_dl/_t1w_..Users..mdiazmel..tmp..DL..ADNI_BIDS_T1_new_test..sub-ADNI100S0006..ses-M00..anat..sub-ADNI100S0006_ses-M00_T1w.nii.gz/GetIDs\".\n",
      "200203-21:02:35,965 nipype.workflow INFO:\n",
      "\t [Node] Outdated cache found for \"t1_linear_dl.GetIDs\".\n",
      "200203-21:02:35,990 nipype.workflow INFO:\n",
      "\t [Node] Running \"GetIDs\" (\"nipype.interfaces.utility.wrappers.Function\")\n",
      "200203-21:02:36,19 nipype.workflow INFO:\n",
      "\t [Node] Finished \"t1_linear_dl.GetIDs\".\n",
      "200203-21:02:37,854 nipype.workflow INFO:\n",
      "\t [Job 6] Completed (t1_linear_dl.GetIDs).\n",
      "200203-21:02:37,861 nipype.workflow INFO:\n",
      "\t [MultiProc] Running 0 tasks, and 3 jobs ready. Free memory (GB): 7.20/7.20, Free processors: 2/2.\n",
      "200203-21:02:37,996 nipype.workflow INFO:\n",
      "\t [Job 4] Cached (t1_linear_dl.cropnifti).\n",
      "200203-21:02:38,0 nipype.workflow INFO:\n",
      "\t [Job 9] Cached (t1_linear_dl.ContainerPath).\n",
      "200203-21:02:39,854 nipype.workflow INFO:\n",
      "\t [MultiProc] Running 0 tasks, and 2 jobs ready. Free memory (GB): 7.20/7.20, Free processors: 2/2.\n",
      "200203-21:02:39,919 nipype.workflow INFO:\n",
      "\t [Job 5] Cached (t1_linear_dl.intensitynormalization).\n",
      "200203-21:02:39,925 nipype.workflow INFO:\n",
      "\t [Job 10] Cached (t1_linear_dl.ImageID).\n",
      "200203-21:02:41,856 nipype.workflow INFO:\n",
      "\t [MultiProc] Running 0 tasks, and 3 jobs ready. Free memory (GB): 7.20/7.20, Free processors: 2/2.\n",
      "200203-21:02:41,932 nipype.workflow INFO:\n",
      "\t [Node] Outdated cache found for \"t1_linear_dl.WriteCaps\".\n",
      "200203-21:02:41,940 nipype.workflow INFO:\n",
      "\t [Job 11] Cached (t1_linear_dl.antsRegistrationSynQuick).\n",
      "200203-21:02:41,943 nipype.workflow INFO:\n",
      "\t [Node] Setting-up \"t1_linear_dl.WriteCaps\" in \"/Users/mdiazmel/tmp/DL/working_dir2/t1_linear_dl/_t1w_..Users..mdiazmel..tmp..DL..ADNI_BIDS_T1_new_test..sub-ADNI100S0006..ses-M00..anat..sub-ADNI100S0006_ses-M00_T1w.nii.gz/WriteCaps\".\n",
      "200203-21:02:41,957 nipype.workflow INFO:\n",
      "\t [Node] Outdated cache found for \"t1_linear_dl.WriteCaps\".\n",
      "200203-21:02:41,996 nipype.workflow INFO:\n",
      "\t [Node] Running \"WriteCaps\" (\"nipype.interfaces.io.DataSink\")\n",
      "200203-21:02:42,17 nipype.interface INFO:\n",
      "\t sub: /Users/mdiazmel/tmp/DL/ADNI_CAPS2/subjects/sub-ADNI100S0006/ses-M00/t1_linear/sub-ADNI100S0006_ses-M00Warped.nii.gz -> /Users/mdiazmel/tmp/DL/ADNI_CAPS2/subjects/sub-ADNI100S0006/ses-M00/t1_linear/sub-ADNI100S0006_ses-M00_space-MNI152NLin2009cSym_res-1x1x1_linear_registration_T1w.nii.gz\n",
      "200203-21:02:42,31 nipype.interface INFO:\n",
      "\t sub: /Users/mdiazmel/tmp/DL/ADNI_CAPS2/subjects/sub-ADNI100S0006/ses-M00/t1_linear/sub-ADNI100S0006_ses-M00Warped_cropped.nii.gz -> /Users/mdiazmel/tmp/DL/ADNI_CAPS2/subjects/sub-ADNI100S0006/ses-M00/t1_linear/sub-ADNI100S0006_ses-M00_space-MNI152NLin2009cSym_res-1x1x1_T1w.nii.gz\n",
      "200203-21:02:42,42 nipype.interface INFO:\n",
      "\t sub: /Users/mdiazmel/tmp/DL/ADNI_CAPS2/subjects/sub-ADNI100S0006/ses-M00/t1_linear/sub-ADNI100S0006_ses-M00Warped_cropped_intensity_norm.nii.gz -> /Users/mdiazmel/tmp/DL/ADNI_CAPS2/subjects/sub-ADNI100S0006/ses-M00/t1_linear/sub-ADNI100S0006_ses-M00_space-MNI152NLin2009cSym_res-1x1x1_intensity_norm_T1w.nii.gz\n",
      "200203-21:02:42,60 nipype.interface INFO:\n",
      "\t sub: /Users/mdiazmel/tmp/DL/ADNI_CAPS2/subjects/sub-ADNI100S0006/ses-M00/t1_linear/sub-ADNI100S0006_ses-M00_T1w_corrected.nii.gz -> /Users/mdiazmel/tmp/DL/ADNI_CAPS2/subjects/sub-ADNI100S0006/ses-M00/t1_linear/sub-ADNI100S0006_ses-M00_corrected_T1w.nii.gz\n",
      "200203-21:02:42,88 nipype.workflow INFO:\n",
      "\t [Node] Finished \"t1_linear_dl.WriteCaps\".\n",
      "200203-21:02:43,857 nipype.workflow INFO:\n",
      "\t [Job 7] Completed (t1_linear_dl.WriteCaps).\n",
      "200203-21:02:43,865 nipype.workflow INFO:\n",
      "\t [MultiProc] Running 0 tasks, and 2 jobs ready. Free memory (GB): 7.20/7.20, Free processors: 2/2.\n",
      "200203-21:02:43,940 nipype.workflow INFO:\n",
      "\t [Job 12] Cached (t1_linear_dl.cropnifti).\n",
      "200203-21:02:43,945 nipype.workflow INFO:\n",
      "\t [Node] Outdated cache found for \"t1_linear_dl.GetIDs\".\n",
      "200203-21:02:43,950 nipype.workflow INFO:\n",
      "\t [Node] Setting-up \"t1_linear_dl.GetIDs\" in \"/Users/mdiazmel/tmp/DL/working_dir2/t1_linear_dl/_t1w_..Users..mdiazmel..tmp..DL..ADNI_BIDS_T1_new_test..sub-ADNI022S0004..ses-M00..anat..sub-ADNI022S0004_ses-M00_T1w.nii.gz/GetIDs\".\n",
      "200203-21:02:43,960 nipype.workflow INFO:\n",
      "\t [Node] Outdated cache found for \"t1_linear_dl.GetIDs\".\n",
      "200203-21:02:43,980 nipype.workflow INFO:\n",
      "\t [Node] Running \"GetIDs\" (\"nipype.interfaces.utility.wrappers.Function\")\n",
      "200203-21:02:44,13 nipype.workflow INFO:\n",
      "\t [Node] Finished \"t1_linear_dl.GetIDs\".\n",
      "200203-21:02:45,862 nipype.workflow INFO:\n",
      "\t [Job 14] Completed (t1_linear_dl.GetIDs).\n",
      "200203-21:02:45,868 nipype.workflow INFO:\n",
      "\t [MultiProc] Running 0 tasks, and 1 jobs ready. Free memory (GB): 7.20/7.20, Free processors: 2/2.\n",
      "200203-21:02:45,942 nipype.workflow INFO:\n",
      "\t [Job 13] Cached (t1_linear_dl.intensitynormalization).\n",
      "200203-21:02:47,943 nipype.workflow INFO:\n",
      "\t [Node] Outdated cache found for \"t1_linear_dl.WriteCaps\".\n",
      "200203-21:02:47,951 nipype.workflow INFO:\n",
      "\t [Node] Setting-up \"t1_linear_dl.WriteCaps\" in \"/Users/mdiazmel/tmp/DL/working_dir2/t1_linear_dl/_t1w_..Users..mdiazmel..tmp..DL..ADNI_BIDS_T1_new_test..sub-ADNI022S0004..ses-M00..anat..sub-ADNI022S0004_ses-M00_T1w.nii.gz/WriteCaps\".\n",
      "200203-21:02:47,958 nipype.workflow INFO:\n",
      "\t [Node] Outdated cache found for \"t1_linear_dl.WriteCaps\".\n",
      "200203-21:02:47,974 nipype.workflow INFO:\n",
      "\t [Node] Running \"WriteCaps\" (\"nipype.interfaces.io.DataSink\")\n",
      "200203-21:02:47,985 nipype.interface INFO:\n",
      "\t sub: /Users/mdiazmel/tmp/DL/ADNI_CAPS2/subjects/sub-ADNI022S0004/ses-M00/t1_linear/sub-ADNI022S0004_ses-M00Warped.nii.gz -> /Users/mdiazmel/tmp/DL/ADNI_CAPS2/subjects/sub-ADNI022S0004/ses-M00/t1_linear/sub-ADNI022S0004_ses-M00_space-MNI152NLin2009cSym_res-1x1x1_linear_registration_T1w.nii.gz\n",
      "200203-21:02:47,999 nipype.interface INFO:\n",
      "\t sub: /Users/mdiazmel/tmp/DL/ADNI_CAPS2/subjects/sub-ADNI022S0004/ses-M00/t1_linear/sub-ADNI022S0004_ses-M00Warped_cropped.nii.gz -> /Users/mdiazmel/tmp/DL/ADNI_CAPS2/subjects/sub-ADNI022S0004/ses-M00/t1_linear/sub-ADNI022S0004_ses-M00_space-MNI152NLin2009cSym_res-1x1x1_T1w.nii.gz\n",
      "200203-21:02:48,8 nipype.interface INFO:\n",
      "\t sub: /Users/mdiazmel/tmp/DL/ADNI_CAPS2/subjects/sub-ADNI022S0004/ses-M00/t1_linear/sub-ADNI022S0004_ses-M00Warped_cropped_intensity_norm.nii.gz -> /Users/mdiazmel/tmp/DL/ADNI_CAPS2/subjects/sub-ADNI022S0004/ses-M00/t1_linear/sub-ADNI022S0004_ses-M00_space-MNI152NLin2009cSym_res-1x1x1_intensity_norm_T1w.nii.gz\n",
      "200203-21:02:48,20 nipype.interface INFO:\n",
      "\t sub: /Users/mdiazmel/tmp/DL/ADNI_CAPS2/subjects/sub-ADNI022S0004/ses-M00/t1_linear/sub-ADNI022S0004_ses-M00_T1w_corrected.nii.gz -> /Users/mdiazmel/tmp/DL/ADNI_CAPS2/subjects/sub-ADNI022S0004/ses-M00/t1_linear/sub-ADNI022S0004_ses-M00_corrected_T1w.nii.gz\n",
      "200203-21:02:48,40 nipype.workflow INFO:\n",
      "\t [Node] Finished \"t1_linear_dl.WriteCaps\".\n",
      "200203-21:02:49,866 nipype.workflow INFO:\n",
      "\t [Job 15] Completed (t1_linear_dl.WriteCaps).\n",
      "200203-21:02:49,873 nipype.workflow INFO:\n",
      "\t [MultiProc] Running 0 tasks, and 0 jobs ready. Free memory (GB): 7.20/7.20, Free processors: 2/2.\n"
     ]
    },
    {
     "data": {
      "text/plain": [
       "<networkx.classes.digraph.DiGraph at 0x118b90c88>"
      ]
     },
     "execution_count": 67,
     "metadata": {},
     "output_type": "execute_result"
    }
   ],
   "source": [
    "wf.run(plugin='MultiProc', plugin_args={'n_procs': 2})"
   ]
  },
  {
   "cell_type": "code",
   "execution_count": null,
   "metadata": {},
   "outputs": [],
   "source": []
  }
 ],
 "metadata": {
  "kernelspec": {
   "display_name": "Python 3",
   "language": "python",
   "name": "python3"
  },
  "language_info": {
   "codemirror_mode": {
    "name": "ipython",
    "version": 3
   },
   "file_extension": ".py",
   "mimetype": "text/x-python",
   "name": "python",
   "nbconvert_exporter": "python",
   "pygments_lexer": "ipython3",
   "version": "3.6.7"
  }
 },
 "nbformat": 4,
 "nbformat_minor": 4
}
