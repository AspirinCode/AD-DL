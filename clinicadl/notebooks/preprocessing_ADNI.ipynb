{
 "cells": [
  {
   "cell_type": "markdown",
   "metadata": {},
   "source": [
    "# Preprocessing DL\n",
    "## Replicating Hao's experiments"
   ]
  },
  {
   "cell_type": "markdown",
   "metadata": {},
   "source": [
    "### 0. Before Starting.\n",
    "\n",
    "One need to create a Conda environment with python 2.7 and install the corresponding version of Clinica inside:"
   ]
  },
  {
   "cell_type": "markdown",
   "metadata": {},
   "source": [
    "```bash\n",
    "conda create --name clinica_dl_pre_py27 python=2.7\n",
    "conda activate clinica_dl_pre_py27\n",
    "conda install -c aramislab -c conda-forge clinica=0.1.3\n",
    "pip install -r requirements.txt\n",
    "conda install pytorch-cpu torchvision-cpu -c pytorch\n",
    "# conda install pytorch torchvision -c pytorch //for macOS\n",
    "conda install jupyter\n",
    "```"
   ]
  },
  {
   "cell_type": "markdown",
   "metadata": {},
   "source": [
    "Version __Update to python 3.6:__"
   ]
  },
  {
   "cell_type": "markdown",
   "metadata": {},
   "source": [
    "\n",
    "```bash\n",
    "conda create --name clinica_dl_pre_py36 python=3.6\n",
    "conda activate clinica_dl_pre_py36\n",
    "conda install -c aramislab -c conda-forge clinica\n",
    "conda install -c conda-forge nilearn\n",
    "conda install pytorch-cpu torchvision-cpu -c pytorch\n",
    "# conda install pytorch torchvision -c pytorch //for macOS\n",
    "```"
   ]
  },
  {
   "cell_type": "markdown",
   "metadata": {},
   "source": [
    "### 1. Preprocessing, first part.\n",
    "\n",
    "Running the first part of preprocessing (inspired from `run_preprocessing.py`).\n",
    "\n",
    "Defining data folders:"
   ]
  },
  {
   "cell_type": "code",
   "execution_count": 4,
   "metadata": {},
   "outputs": [],
   "source": [
    "bids_directory = '/Users/mdiazmel/tmp/DL/ADNI_BIDS_T1_new_test/'\n",
    "caps_directory= '/Users/mdiazmel/tmp/DL/ADNI_CAPS'\n",
    "tsv = '/Users/mdiazmel/tmp/DL/image_preprocessing_test.tsv'\n",
    "working_dir = '/Users/mdiazmel/tmp/DL/working_dir/'\n",
    "ref_template = '/Users/mdiazmel/tmp/DL/mni_icbm152_nlin_sym_09c_nifti/mni_icbm152_nlin_sym_09c/mni_icbm152_t1_tal_nlin_sym_09c.nii'"
   ]
  },
  {
   "cell_type": "markdown",
   "metadata": {},
   "source": [
    "Import module for `T1_preprocessing`:"
   ]
  },
  {
   "cell_type": "code",
   "execution_count": null,
   "metadata": {},
   "outputs": [],
   "source": [
    "#from clinica.utils.io import get_subject_session_list\n",
    "#help(get_subject_session_list)\n",
    "import clinica.utils.io\n",
    "help(read_participant_tsv)\n"
   ]
  },
  {
   "cell_type": "code",
   "execution_count": 5,
   "metadata": {},
   "outputs": [
    {
     "name": "stdout",
     "output_type": "stream",
     "text": [
      "200117-14:45:08,271 nipype.workflow INFO:\n",
      "\t Generated workflow graph: /Users/mdiazmel/tmp/DL/working_dir/t1w_preprocessing_dl/workflow_graph.png (graph2use=hierarchical, simple_form=True).\n",
      "200117-14:45:08,716 nipype.workflow INFO:\n",
      "\t Generated workflow graph: /Users/mdiazmel/tmp/DL/working_dir/t1w_preprocessing_dl/graph.png (graph2use=flat, simple_form=True).\n",
      "200117-14:45:08,744 nipype.workflow INFO:\n",
      "\t Workflow t1w_preprocessing_dl settings: ['check', 'execution', 'logging', 'monitoring']\n",
      "200117-14:45:08,775 nipype.workflow INFO:\n",
      "\t Running in parallel.\n",
      "200117-14:45:08,783 nipype.workflow INFO:\n",
      "\t [MultiProc] Running 0 tasks, and 1 jobs ready. Free memory (GB): 7.20/7.20, Free processors: 2/2.\n",
      "200117-14:45:08,859 nipype.workflow INFO:\n",
      "\t [Node] Outdated cache found for \"t1w_preprocessing_dl.get_subject_session_list\".\n",
      "200117-14:45:08,891 nipype.workflow INFO:\n",
      "\t [Node] Setting-up \"t1w_preprocessing_dl.get_subject_session_list\" in \"/Users/mdiazmel/tmp/DL/working_dir/t1w_preprocessing_dl/get_subject_session_list\".\n",
      "200117-14:45:08,904 nipype.workflow INFO:\n",
      "\t [Node] Outdated cache found for \"t1w_preprocessing_dl.get_subject_session_list\".\n",
      "200117-14:45:08,931 nipype.workflow INFO:\n",
      "\t [Node] Running \"get_subject_session_list\" (\"nipype.interfaces.utility.wrappers.Function\")\n",
      "200117-14:45:09,363 nipype.workflow INFO:\n",
      "\t [Node] Finished \"t1w_preprocessing_dl.get_subject_session_list\".\n",
      "200117-14:45:10,789 nipype.workflow INFO:\n",
      "\t [Job 0] Completed (t1w_preprocessing_dl.get_subject_session_list).\n",
      "200117-14:45:10,797 nipype.workflow INFO:\n",
      "\t [MultiProc] Running 0 tasks, and 3 jobs ready. Free memory (GB): 7.20/7.20, Free processors: 2/2.\n",
      "200117-14:45:10,938 nipype.workflow INFO:\n",
      "\t [Node] Setting-up \"t1w_preprocessing_dl.datagrabbernode\" in \"/Users/mdiazmel/tmp/DL/working_dir/t1w_preprocessing_dl/datagrabbernode\".\n",
      "200117-14:45:10,974 nipype.workflow INFO:\n",
      "\t [Node] Running \"datagrabbernode\" (\"nipype.interfaces.utility.wrappers.Function\")\n",
      "200117-14:45:11,21 nipype.workflow WARNING:\n",
      "\t [Node] Error on \"t1w_preprocessing_dl.datagrabbernode\" (/Users/mdiazmel/tmp/DL/working_dir/t1w_preprocessing_dl/datagrabbernode)\n",
      "200117-14:45:12,788 nipype.workflow ERROR:\n",
      "\t Node datagrabbernode failed to run on host mp-41298.local.\n",
      "200117-14:45:12,790 nipype.workflow ERROR:\n",
      "\t Saving crash info to /Users/mdiazmel/code/aramis/AD-DL/clinicadl/notebooks/crash-20200117-144512-mdiazmel-datagrabbernode-2569aa35-a2c6-4967-b0eb-a7102a9cdd74.pklz\n",
      "Traceback (most recent call last):\n",
      "  File \"/Users/mdiazmel/conda/envs/clinicadl_env_py36/lib/python3.6/site-packages/nipype/pipeline/plugins/multiproc.py\", line 69, in run_node\n",
      "    result['result'] = node.run(updatehash=updatehash)\n",
      "  File \"/Users/mdiazmel/conda/envs/clinicadl_env_py36/lib/python3.6/site-packages/nipype/pipeline/engine/nodes.py\", line 471, in run\n",
      "    result = self._run_interface(execute=True)\n",
      "  File \"/Users/mdiazmel/conda/envs/clinicadl_env_py36/lib/python3.6/site-packages/nipype/pipeline/engine/nodes.py\", line 555, in _run_interface\n",
      "    return self._run_command(execute)\n",
      "  File \"/Users/mdiazmel/conda/envs/clinicadl_env_py36/lib/python3.6/site-packages/nipype/pipeline/engine/nodes.py\", line 635, in _run_command\n",
      "    result = self._interface.run(cwd=outdir)\n",
      "  File \"/Users/mdiazmel/conda/envs/clinicadl_env_py36/lib/python3.6/site-packages/nipype/interfaces/base/core.py\", line 521, in run\n",
      "    runtime = self._run_interface(runtime)\n",
      "  File \"/Users/mdiazmel/conda/envs/clinicadl_env_py36/lib/python3.6/site-packages/nipype/interfaces/utility/wrappers.py\", line 144, in _run_interface\n",
      "    out = function_handle(**args)\n",
      "  File \"<string>\", line 16, in bids_datagrabber_t1w\n",
      "  File \"/Users/mdiazmel/conda/envs/clinicadl_env_py36/lib/python3.6/site-packages/bids/grabbids/bids_layout.py\", line 103, in __init__\n",
      "    exclude=exclude, **kwargs)\n",
      "TypeError: __init__() got an unexpected keyword argument 'config'\n",
      "\n",
      "200117-14:45:12,805 nipype.workflow INFO:\n",
      "\t [MultiProc] Running 0 tasks, and 4 jobs ready. Free memory (GB): 7.20/7.20, Free processors: 2/2.\n",
      "200117-14:45:12,873 nipype.workflow INFO:\n",
      "\t [Job 9] Cached (_rename_file0).\n",
      "200117-14:45:12,883 nipype.workflow INFO:\n",
      "\t [Job 10] Cached (_rename_file1).\n",
      "200117-14:45:14,790 nipype.workflow INFO:\n",
      "\t [MultiProc] Running 0 tasks, and 3 jobs ready. Free memory (GB): 7.20/7.20, Free processors: 2/2.\n",
      "200117-14:45:14,857 nipype.workflow INFO:\n",
      "\t [Job 2] Cached (t1w_preprocessing_dl.rename_file).\n",
      "200117-14:45:14,861 nipype.workflow INFO:\n",
      "\t [Job 11] Cached (_get_subid_sesid_datasink0).\n",
      "200117-14:45:16,792 nipype.workflow INFO:\n",
      "\t [MultiProc] Running 0 tasks, and 1 jobs ready. Free memory (GB): 7.20/7.20, Free processors: 2/2.\n",
      "200117-14:45:16,857 nipype.workflow INFO:\n",
      "\t [Job 12] Cached (_get_subid_sesid_datasink1).\n",
      "200117-14:45:18,853 nipype.workflow INFO:\n",
      "\t [Job 7] Cached (t1w_preprocessing_dl.get_subid_sesid_datasink).\n",
      "200117-14:45:20,796 nipype.workflow INFO:\n",
      "\t ***********************************\n",
      "200117-14:45:20,798 nipype.workflow ERROR:\n",
      "\t could not run node: t1w_preprocessing_dl.datagrabbernode\n",
      "200117-14:45:20,799 nipype.workflow INFO:\n",
      "\t crashfile: /Users/mdiazmel/code/aramis/AD-DL/clinicadl/notebooks/crash-20200117-144512-mdiazmel-datagrabbernode-2569aa35-a2c6-4967-b0eb-a7102a9cdd74.pklz\n",
      "200117-14:45:20,802 nipype.workflow INFO:\n",
      "\t ***********************************\n"
     ]
    },
    {
     "ename": "RuntimeError",
     "evalue": "Workflow did not execute cleanly. Check log for details",
     "output_type": "error",
     "traceback": [
      "\u001b[0;31m---------------------------------------------------------------------------\u001b[0m",
      "\u001b[0;31mRuntimeError\u001b[0m                              Traceback (most recent call last)",
      "\u001b[0;32m<ipython-input-5-de107bad5352>\u001b[0m in \u001b[0;36m<module>\u001b[0;34m\u001b[0m\n\u001b[1;32m      3\u001b[0m \u001b[0mwf\u001b[0m\u001b[0;34m.\u001b[0m\u001b[0mwrite_graph\u001b[0m\u001b[0;34m(\u001b[0m\u001b[0;34m\"workflow_graph.dot\"\u001b[0m\u001b[0;34m)\u001b[0m\u001b[0;34m\u001b[0m\u001b[0;34m\u001b[0m\u001b[0m\n\u001b[1;32m      4\u001b[0m \u001b[0mwf\u001b[0m\u001b[0;34m.\u001b[0m\u001b[0mwrite_graph\u001b[0m\u001b[0;34m(\u001b[0m\u001b[0mgraph2use\u001b[0m\u001b[0;34m=\u001b[0m\u001b[0;34m'flat'\u001b[0m\u001b[0;34m)\u001b[0m\u001b[0;34m\u001b[0m\u001b[0;34m\u001b[0m\u001b[0m\n\u001b[0;32m----> 5\u001b[0;31m \u001b[0mwf\u001b[0m\u001b[0;34m.\u001b[0m\u001b[0mrun\u001b[0m\u001b[0;34m(\u001b[0m\u001b[0mplugin\u001b[0m\u001b[0;34m=\u001b[0m\u001b[0;34m'MultiProc'\u001b[0m\u001b[0;34m,\u001b[0m \u001b[0mplugin_args\u001b[0m\u001b[0;34m=\u001b[0m\u001b[0;34m{\u001b[0m\u001b[0;34m'n_procs'\u001b[0m\u001b[0;34m:\u001b[0m \u001b[0;36m2\u001b[0m\u001b[0;34m}\u001b[0m\u001b[0;34m)\u001b[0m\u001b[0;34m\u001b[0m\u001b[0;34m\u001b[0m\u001b[0m\n\u001b[0m",
      "\u001b[0;32m~/conda/envs/clinicadl_env_py36/lib/python3.6/site-packages/nipype/pipeline/engine/workflows.py\u001b[0m in \u001b[0;36mrun\u001b[0;34m(self, plugin, plugin_args, updatehash)\u001b[0m\n\u001b[1;32m    593\u001b[0m         \u001b[0;32mif\u001b[0m \u001b[0mstr2bool\u001b[0m\u001b[0;34m(\u001b[0m\u001b[0mself\u001b[0m\u001b[0;34m.\u001b[0m\u001b[0mconfig\u001b[0m\u001b[0;34m[\u001b[0m\u001b[0;34m'execution'\u001b[0m\u001b[0;34m]\u001b[0m\u001b[0;34m[\u001b[0m\u001b[0;34m'create_report'\u001b[0m\u001b[0;34m]\u001b[0m\u001b[0;34m)\u001b[0m\u001b[0;34m:\u001b[0m\u001b[0;34m\u001b[0m\u001b[0;34m\u001b[0m\u001b[0m\n\u001b[1;32m    594\u001b[0m             \u001b[0mself\u001b[0m\u001b[0;34m.\u001b[0m\u001b[0m_write_report_info\u001b[0m\u001b[0;34m(\u001b[0m\u001b[0mself\u001b[0m\u001b[0;34m.\u001b[0m\u001b[0mbase_dir\u001b[0m\u001b[0;34m,\u001b[0m \u001b[0mself\u001b[0m\u001b[0;34m.\u001b[0m\u001b[0mname\u001b[0m\u001b[0;34m,\u001b[0m \u001b[0mexecgraph\u001b[0m\u001b[0;34m)\u001b[0m\u001b[0;34m\u001b[0m\u001b[0;34m\u001b[0m\u001b[0m\n\u001b[0;32m--> 595\u001b[0;31m         \u001b[0mrunner\u001b[0m\u001b[0;34m.\u001b[0m\u001b[0mrun\u001b[0m\u001b[0;34m(\u001b[0m\u001b[0mexecgraph\u001b[0m\u001b[0;34m,\u001b[0m \u001b[0mupdatehash\u001b[0m\u001b[0;34m=\u001b[0m\u001b[0mupdatehash\u001b[0m\u001b[0;34m,\u001b[0m \u001b[0mconfig\u001b[0m\u001b[0;34m=\u001b[0m\u001b[0mself\u001b[0m\u001b[0;34m.\u001b[0m\u001b[0mconfig\u001b[0m\u001b[0;34m)\u001b[0m\u001b[0;34m\u001b[0m\u001b[0;34m\u001b[0m\u001b[0m\n\u001b[0m\u001b[1;32m    596\u001b[0m         \u001b[0mdatestr\u001b[0m \u001b[0;34m=\u001b[0m \u001b[0mdatetime\u001b[0m\u001b[0;34m.\u001b[0m\u001b[0mutcnow\u001b[0m\u001b[0;34m(\u001b[0m\u001b[0;34m)\u001b[0m\u001b[0;34m.\u001b[0m\u001b[0mstrftime\u001b[0m\u001b[0;34m(\u001b[0m\u001b[0;34m'%Y%m%dT%H%M%S'\u001b[0m\u001b[0;34m)\u001b[0m\u001b[0;34m\u001b[0m\u001b[0;34m\u001b[0m\u001b[0m\n\u001b[1;32m    597\u001b[0m         \u001b[0;32mif\u001b[0m \u001b[0mstr2bool\u001b[0m\u001b[0;34m(\u001b[0m\u001b[0mself\u001b[0m\u001b[0;34m.\u001b[0m\u001b[0mconfig\u001b[0m\u001b[0;34m[\u001b[0m\u001b[0;34m'execution'\u001b[0m\u001b[0;34m]\u001b[0m\u001b[0;34m[\u001b[0m\u001b[0;34m'write_provenance'\u001b[0m\u001b[0;34m]\u001b[0m\u001b[0;34m)\u001b[0m\u001b[0;34m:\u001b[0m\u001b[0;34m\u001b[0m\u001b[0;34m\u001b[0m\u001b[0m\n",
      "\u001b[0;32m~/conda/envs/clinicadl_env_py36/lib/python3.6/site-packages/nipype/pipeline/plugins/base.py\u001b[0m in \u001b[0;36mrun\u001b[0;34m(self, graph, config, updatehash)\u001b[0m\n\u001b[1;32m    190\u001b[0m \u001b[0;34m\u001b[0m\u001b[0m\n\u001b[1;32m    191\u001b[0m         \u001b[0mself\u001b[0m\u001b[0;34m.\u001b[0m\u001b[0m_remove_node_dirs\u001b[0m\u001b[0;34m(\u001b[0m\u001b[0;34m)\u001b[0m\u001b[0;34m\u001b[0m\u001b[0;34m\u001b[0m\u001b[0m\n\u001b[0;32m--> 192\u001b[0;31m         \u001b[0mreport_nodes_not_run\u001b[0m\u001b[0;34m(\u001b[0m\u001b[0mnotrun\u001b[0m\u001b[0;34m)\u001b[0m\u001b[0;34m\u001b[0m\u001b[0;34m\u001b[0m\u001b[0m\n\u001b[0m\u001b[1;32m    193\u001b[0m \u001b[0;34m\u001b[0m\u001b[0m\n\u001b[1;32m    194\u001b[0m         \u001b[0;31m# close any open resources\u001b[0m\u001b[0;34m\u001b[0m\u001b[0;34m\u001b[0m\u001b[0;34m\u001b[0m\u001b[0m\n",
      "\u001b[0;32m~/conda/envs/clinicadl_env_py36/lib/python3.6/site-packages/nipype/pipeline/plugins/tools.py\u001b[0m in \u001b[0;36mreport_nodes_not_run\u001b[0;34m(notrun)\u001b[0m\n\u001b[1;32m     80\u001b[0m                 \u001b[0mlogger\u001b[0m\u001b[0;34m.\u001b[0m\u001b[0mdebug\u001b[0m\u001b[0;34m(\u001b[0m\u001b[0msubnode\u001b[0m\u001b[0;34m.\u001b[0m\u001b[0m_id\u001b[0m\u001b[0;34m)\u001b[0m\u001b[0;34m\u001b[0m\u001b[0;34m\u001b[0m\u001b[0m\n\u001b[1;32m     81\u001b[0m         \u001b[0mlogger\u001b[0m\u001b[0;34m.\u001b[0m\u001b[0minfo\u001b[0m\u001b[0;34m(\u001b[0m\u001b[0;34m\"***********************************\"\u001b[0m\u001b[0;34m)\u001b[0m\u001b[0;34m\u001b[0m\u001b[0;34m\u001b[0m\u001b[0m\n\u001b[0;32m---> 82\u001b[0;31m         raise RuntimeError(('Workflow did not execute cleanly. '\n\u001b[0m\u001b[1;32m     83\u001b[0m                             'Check log for details'))\n\u001b[1;32m     84\u001b[0m \u001b[0;34m\u001b[0m\u001b[0m\n",
      "\u001b[0;31mRuntimeError\u001b[0m: Workflow did not execute cleanly. Check log for details"
     ]
    }
   ],
   "source": [
    "from clinicadl.preprocessing.T1_preprocessing import preprocessing_t1w\n",
    "wf = preprocessing_t1w(bids_directory, caps_directory, tsv, ref_template, working_dir)\n",
    "wf.write_graph(\"workflow_graph.dot\")\n",
    "wf.write_graph(graph2use='flat')\n",
    "wf.run(plugin='MultiProc', plugin_args={'n_procs': 2})"
   ]
  },
  {
   "cell_type": "markdown",
   "metadata": {},
   "source": [
    "### 2. Preprocessing, second part"
   ]
  },
  {
   "cell_type": "markdown",
   "metadata": {},
   "source": [
    "Run the second part of preprocessing (inspired from `run_postprocessing_adni.py`)."
   ]
  },
  {
   "cell_type": "code",
   "execution_count": null,
   "metadata": {},
   "outputs": [],
   "source": [
    "from T1_postprocessing import postprocessing_t1w\n",
    "\n",
    "patch_size = 50\n",
    "stride_size = 50\n",
    "\n",
    "# for rgb tf learning\n",
    "wf2 = postprocessing_t1w(caps_directory, tsv, patch_size, stride_size, working_directory=working_dir, extract_method='slice', slice_mode='rgb')\n",
    "wf2.run(plugin='MultiProc', plugin_args={'n_procs': 4})"
   ]
  },
  {
   "cell_type": "code",
   "execution_count": null,
   "metadata": {},
   "outputs": [],
   "source": [
    "## for patch\n",
    "wf3 = postprocessing_t1w(caps_directory, tsv, patch_size, stride_size, working_directory=working_dir, extract_method='patch')\n",
    "#wf3.write_graph(\"workflow_graph.dot\")\n",
    "#wf3.write_graph(graph2use='flat')\n",
    "wf3.run(qqaqqq"
   ]
  },
  {
   "cell_type": "code",
   "execution_count": null,
   "metadata": {},
   "outputs": [],
   "source": []
  }
 ],
 "metadata": {
  "kernelspec": {
   "display_name": "Python 3",
   "language": "python",
   "name": "python3"
  },
  "language_info": {
   "codemirror_mode": {
    "name": "ipython",
    "version": 3
   },
   "file_extension": ".py",
   "mimetype": "text/x-python",
   "name": "python",
   "nbconvert_exporter": "python",
   "pygments_lexer": "ipython3",
   "version": "3.6.10"
  }
 },
 "nbformat": 4,
 "nbformat_minor": 2
}
